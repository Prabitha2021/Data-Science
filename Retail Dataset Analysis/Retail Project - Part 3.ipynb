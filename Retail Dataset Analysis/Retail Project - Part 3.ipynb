{
 "cells": [
  {
   "cell_type": "code",
   "execution_count": null,
   "metadata": {},
   "outputs": [],
   "source": [
    "#Data Analytics Questions and answers"
   ]
  },
  {
   "cell_type": "code",
   "execution_count": 2,
   "metadata": {},
   "outputs": [],
   "source": [
    "import pandas as pd\n",
    "import numpy as np\n",
    "import matplotlib.pyplot as plt\n",
    "import datetime\n",
    "import seaborn as sns"
   ]
  },
  {
   "cell_type": "code",
   "execution_count": 3,
   "metadata": {},
   "outputs": [],
   "source": [
    "#load dataset on python\n",
    "import io\n",
    "df = pd.read_csv(r'D:\\Prabitha\\Edubridge classes\\Project\\Retail data\\archive\\Processed_data-16-10-2021.csv')"
   ]
  },
  {
   "cell_type": "code",
   "execution_count": 4,
   "metadata": {},
   "outputs": [
    {
     "data": {
      "text/plain": [
       "1015364    FEB-2021\n",
       "Name: Date, dtype: object"
      ]
     },
     "execution_count": 4,
     "metadata": {},
     "output_type": "execute_result"
    }
   ],
   "source": [
    "#4. Which date has highest price of wheat?\n",
    "dfwheat=df[df[\"Commodity\"]==\"Wheat\"]\n",
    "m=max(dfwheat[\"Retail Price\"])\n",
    "dfmaxprice=dfwheat[dfwheat[\"Retail Price\"]==m]\n",
    "dd=dfmaxprice[\"Date\"]\n",
    "dd\n"
   ]
  },
  {
   "cell_type": "code",
   "execution_count": 5,
   "metadata": {},
   "outputs": [],
   "source": [
    "dfwheat=df[df[\"Commodity\"]==\"Wheat\"][\"Retail Price\"].max()"
   ]
  },
  {
   "cell_type": "code",
   "execution_count": 6,
   "metadata": {},
   "outputs": [
    {
     "data": {
      "text/plain": [
       "130.0"
      ]
     },
     "execution_count": 6,
     "metadata": {},
     "output_type": "execute_result"
    }
   ],
   "source": [
    "dfwheat"
   ]
  },
  {
   "cell_type": "code",
   "execution_count": 7,
   "metadata": {},
   "outputs": [
    {
     "data": {
      "text/html": [
       "<div>\n",
       "<style scoped>\n",
       "    .dataframe tbody tr th:only-of-type {\n",
       "        vertical-align: middle;\n",
       "    }\n",
       "\n",
       "    .dataframe tbody tr th {\n",
       "        vertical-align: top;\n",
       "    }\n",
       "\n",
       "    .dataframe thead th {\n",
       "        text-align: right;\n",
       "    }\n",
       "</style>\n",
       "<table border=\"1\" class=\"dataframe\">\n",
       "  <thead>\n",
       "    <tr style=\"text-align: right;\">\n",
       "      <th></th>\n",
       "      <th>Unnamed: 0</th>\n",
       "      <th>State</th>\n",
       "      <th>Centre</th>\n",
       "      <th>Commodity</th>\n",
       "      <th>Variety</th>\n",
       "      <th>Unit</th>\n",
       "      <th>Category</th>\n",
       "      <th>Date</th>\n",
       "      <th>Retail Price</th>\n",
       "    </tr>\n",
       "  </thead>\n",
       "  <tbody>\n",
       "    <tr>\n",
       "      <th>1015364</th>\n",
       "      <td>1137179</td>\n",
       "      <td>Tamil Nadu</td>\n",
       "      <td>Coimbatore</td>\n",
       "      <td>Wheat</td>\n",
       "      <td>Kalyan HYV</td>\n",
       "      <td>Kg.</td>\n",
       "      <td>Food</td>\n",
       "      <td>FEB-2021</td>\n",
       "      <td>130.0</td>\n",
       "    </tr>\n",
       "    <tr>\n",
       "      <th>1015842</th>\n",
       "      <td>1137681</td>\n",
       "      <td>Tamil Nadu</td>\n",
       "      <td>Coimbatore</td>\n",
       "      <td>Wheat</td>\n",
       "      <td>Kalyan HYV</td>\n",
       "      <td>Kg.</td>\n",
       "      <td>Food</td>\n",
       "      <td>MAR-2021</td>\n",
       "      <td>128.0</td>\n",
       "    </tr>\n",
       "    <tr>\n",
       "      <th>1015849</th>\n",
       "      <td>1137688</td>\n",
       "      <td>Tamil Nadu</td>\n",
       "      <td>Tirunelveli</td>\n",
       "      <td>Wheat</td>\n",
       "      <td>Desi</td>\n",
       "      <td>Kg.</td>\n",
       "      <td>Food</td>\n",
       "      <td>MAR-2021</td>\n",
       "      <td>125.0</td>\n",
       "    </tr>\n",
       "    <tr>\n",
       "      <th>1014393</th>\n",
       "      <td>1136182</td>\n",
       "      <td>Tamil Nadu</td>\n",
       "      <td>Tirunelveli</td>\n",
       "      <td>Wheat</td>\n",
       "      <td>Desi</td>\n",
       "      <td>Kg.</td>\n",
       "      <td>Food</td>\n",
       "      <td>DEC-2020</td>\n",
       "      <td>125.0</td>\n",
       "    </tr>\n",
       "    <tr>\n",
       "      <th>1013903</th>\n",
       "      <td>1135680</td>\n",
       "      <td>Tamil Nadu</td>\n",
       "      <td>Tirunelveli</td>\n",
       "      <td>Wheat</td>\n",
       "      <td>Desi</td>\n",
       "      <td>Kg.</td>\n",
       "      <td>Food</td>\n",
       "      <td>NOV-2020</td>\n",
       "      <td>125.0</td>\n",
       "    </tr>\n",
       "    <tr>\n",
       "      <th>...</th>\n",
       "      <td>...</td>\n",
       "      <td>...</td>\n",
       "      <td>...</td>\n",
       "      <td>...</td>\n",
       "      <td>...</td>\n",
       "      <td>...</td>\n",
       "      <td>...</td>\n",
       "      <td>...</td>\n",
       "      <td>...</td>\n",
       "    </tr>\n",
       "    <tr>\n",
       "      <th>980453</th>\n",
       "      <td>1093951</td>\n",
       "      <td>Kerala</td>\n",
       "      <td>Trivandrum</td>\n",
       "      <td>Wheat</td>\n",
       "      <td>Desi</td>\n",
       "      <td>Kg.</td>\n",
       "      <td>Food</td>\n",
       "      <td>DEC-2013</td>\n",
       "      <td>2.0</td>\n",
       "    </tr>\n",
       "    <tr>\n",
       "      <th>985371</th>\n",
       "      <td>1100477</td>\n",
       "      <td>Kerala</td>\n",
       "      <td>Trivandrum</td>\n",
       "      <td>Wheat</td>\n",
       "      <td>Desi</td>\n",
       "      <td>Kg.</td>\n",
       "      <td>Food</td>\n",
       "      <td>JAN-2015</td>\n",
       "      <td>2.0</td>\n",
       "    </tr>\n",
       "    <tr>\n",
       "      <th>982320</th>\n",
       "      <td>1096461</td>\n",
       "      <td>Kerala</td>\n",
       "      <td>Trivandrum</td>\n",
       "      <td>Wheat</td>\n",
       "      <td>Desi</td>\n",
       "      <td>Kg.</td>\n",
       "      <td>Food</td>\n",
       "      <td>MAY-2014</td>\n",
       "      <td>2.0</td>\n",
       "    </tr>\n",
       "    <tr>\n",
       "      <th>980065</th>\n",
       "      <td>1093449</td>\n",
       "      <td>Kerala</td>\n",
       "      <td>Trivandrum</td>\n",
       "      <td>Wheat</td>\n",
       "      <td>Desi</td>\n",
       "      <td>Kg.</td>\n",
       "      <td>Food</td>\n",
       "      <td>NOV-2013</td>\n",
       "      <td>2.0</td>\n",
       "    </tr>\n",
       "    <tr>\n",
       "      <th>961496</th>\n",
       "      <td>1068929</td>\n",
       "      <td>Uttar Pradesh</td>\n",
       "      <td>Allahabad</td>\n",
       "      <td>Wheat</td>\n",
       "      <td>Kalyan HYV</td>\n",
       "      <td>Kg.</td>\n",
       "      <td>Food</td>\n",
       "      <td>OCT-2009</td>\n",
       "      <td>1.0</td>\n",
       "    </tr>\n",
       "  </tbody>\n",
       "</table>\n",
       "<p>17096 rows × 9 columns</p>\n",
       "</div>"
      ],
      "text/plain": [
       "         Unnamed: 0          State       Centre Commodity     Variety Unit  \\\n",
       "1015364     1137179     Tamil Nadu   Coimbatore     Wheat  Kalyan HYV  Kg.   \n",
       "1015842     1137681     Tamil Nadu   Coimbatore     Wheat  Kalyan HYV  Kg.   \n",
       "1015849     1137688     Tamil Nadu  Tirunelveli     Wheat        Desi  Kg.   \n",
       "1014393     1136182     Tamil Nadu  Tirunelveli     Wheat        Desi  Kg.   \n",
       "1013903     1135680     Tamil Nadu  Tirunelveli     Wheat        Desi  Kg.   \n",
       "...             ...            ...          ...       ...         ...  ...   \n",
       "980453      1093951         Kerala   Trivandrum     Wheat        Desi  Kg.   \n",
       "985371      1100477         Kerala   Trivandrum     Wheat        Desi  Kg.   \n",
       "982320      1096461         Kerala   Trivandrum     Wheat        Desi  Kg.   \n",
       "980065      1093449         Kerala   Trivandrum     Wheat        Desi  Kg.   \n",
       "961496      1068929  Uttar Pradesh    Allahabad     Wheat  Kalyan HYV  Kg.   \n",
       "\n",
       "        Category      Date  Retail Price  \n",
       "1015364     Food  FEB-2021         130.0  \n",
       "1015842     Food  MAR-2021         128.0  \n",
       "1015849     Food  MAR-2021         125.0  \n",
       "1014393     Food  DEC-2020         125.0  \n",
       "1013903     Food  NOV-2020         125.0  \n",
       "...          ...       ...           ...  \n",
       "980453      Food  DEC-2013           2.0  \n",
       "985371      Food  JAN-2015           2.0  \n",
       "982320      Food  MAY-2014           2.0  \n",
       "980065      Food  NOV-2013           2.0  \n",
       "961496      Food  OCT-2009           1.0  \n",
       "\n",
       "[17096 rows x 9 columns]"
      ]
     },
     "execution_count": 7,
     "metadata": {},
     "output_type": "execute_result"
    }
   ],
   "source": [
    "#Another method \n",
    "df[(df[\"Commodity\"]==\"Wheat\") ].sort_values(\"Retail Price\",ascending=False)\n"
   ]
  },
  {
   "cell_type": "code",
   "execution_count": 8,
   "metadata": {},
   "outputs": [
    {
     "data": {
      "text/plain": [
       "Unnamed: 0      0\n",
       "State           0\n",
       "Centre          0\n",
       "Commodity       0\n",
       "Variety         0\n",
       "Unit            0\n",
       "Category        0\n",
       "Date            0\n",
       "Retail Price    0\n",
       "dtype: int64"
      ]
     },
     "execution_count": 8,
     "metadata": {},
     "output_type": "execute_result"
    }
   ],
   "source": [
    "df.isnull().sum()"
   ]
  },
  {
   "cell_type": "code",
   "execution_count": 9,
   "metadata": {},
   "outputs": [
    {
     "data": {
      "text/plain": [
       "'Unnamed: 0'"
      ]
     },
     "execution_count": 9,
     "metadata": {},
     "output_type": "execute_result"
    }
   ],
   "source": [
    "#To remove the unnamed column(column 1)\n",
    "a = df.columns[0]\n",
    "a"
   ]
  },
  {
   "cell_type": "code",
   "execution_count": 10,
   "metadata": {},
   "outputs": [],
   "source": [
    "df = df.drop(a,axis = 1)"
   ]
  },
  {
   "cell_type": "code",
   "execution_count": 11,
   "metadata": {},
   "outputs": [
    {
     "data": {
      "text/plain": [
       "State           0\n",
       "Centre          0\n",
       "Commodity       0\n",
       "Variety         0\n",
       "Unit            0\n",
       "Category        0\n",
       "Date            0\n",
       "Retail Price    0\n",
       "dtype: int64"
      ]
     },
     "execution_count": 11,
     "metadata": {},
     "output_type": "execute_result"
    }
   ],
   "source": [
    "df.isnull().sum()"
   ]
  },
  {
   "cell_type": "code",
   "execution_count": 12,
   "metadata": {},
   "outputs": [
    {
     "name": "stdout",
     "output_type": "stream",
     "text": [
      "State Andhra Pradesh Max Price 44.0\n",
      "State Bihar Max Price 30.0\n",
      "State Goa Max Price 36.0\n",
      "State Gujarat Max Price 36.0\n",
      "State Haryana Max Price 29.52330097087379\n",
      "State Himachal Pradesh Max Price 29.52330097087379\n",
      "State Jharkhand Max Price 32.0\n",
      "State Karnataka Max Price 70.0\n",
      "State Kerala Max Price 44.0\n",
      "State Madhya Pradesh Max Price 32.0\n",
      "State Maharashtra Max Price 40.0\n",
      "State Mizoram Max Price nan\n",
      "State National Capital Max Price 29.52330097087379\n",
      "State Orissa Max Price 36.0\n",
      "State Punjab Max Price 29.52330097087379\n",
      "State Rajasthan Max Price 30.0\n",
      "State Tamil Nadu Max Price 130.0\n",
      "State Tripura Max Price 32.0\n",
      "State Uttar Pradesh Max Price 27.0\n",
      "State Uttarakhand Max Price 29.52330097087379\n",
      "State West Bengal Max Price 29.52330097087379\n",
      "State Jammu Kashmir Max Price 29.52330097087379\n",
      "State Meghalaya Max Price 29.52330097087379\n",
      "State Telangana Max Price 45.0\n",
      "State Union Territories Max Price 29.52330097087379\n",
      "State Assam Max Price 38.0\n",
      "State Arunachal Pradesh Max Price 47.0\n",
      "State Manipur Max Price 29.52330097087379\n",
      "State Nagaland Max Price 29.52330097087379\n",
      "State Sikkim Max Price 30.0\n"
     ]
    }
   ],
   "source": [
    "#5. Which is the highest price of wheat statewise?\n",
    "#h=df[df[\"Commodity\"]==\"Wheat\"]\n",
    "state =df[\"State\"].unique()\n",
    "for i in state:\n",
    "    m=df[(df[\"Commodity\"]==\"Wheat\") & (df[\"State\"]==i)]\n",
    "    maxprice=m[\"Retail Price\"].max()\n",
    "    print(\"State\",i,\"Max Price\",maxprice)\n"
   ]
  },
  {
   "cell_type": "code",
   "execution_count": 14,
   "metadata": {},
   "outputs": [],
   "source": [
    "w = df[df[\"Commodity\"]==\"Wheat\"]\n",
    "t = w.groupby(\"State\")[\"Retail Price\"].max()"
   ]
  },
  {
   "cell_type": "code",
   "execution_count": 15,
   "metadata": {},
   "outputs": [
    {
     "data": {
      "text/plain": [
       "<AxesSubplot:ylabel='State'>"
      ]
     },
     "execution_count": 15,
     "metadata": {},
     "output_type": "execute_result"
    },
    {
     "data": {
      "image/png": "[encoded data removed]",
      "text/plain": [
       "<Figure size 1080x720 with 1 Axes>"
      ]
     },
     "metadata": {
      "needs_background": "light"
     },
     "output_type": "display_data"
    }
   ],
   "source": [
    "plt.figure(figsize = (15,10))\n",
    "t.plot(kind=\"barh\")\n",
    "\n"
   ]
  },
  {
   "cell_type": "code",
   "execution_count": 16,
   "metadata": {},
   "outputs": [
    {
     "data": {
      "text/plain": [
       "array(['FAQ'], dtype=object)"
      ]
     },
     "execution_count": 16,
     "metadata": {},
     "output_type": "execute_result"
    }
   ],
   "source": [
    "##6. If the commodity is mustard oil, how many varieties are available in mustard oil?\n",
    "mustard=df[df[\"Commodity\"]==\"Mustard Oil\"]\n",
    "mustard[\"Variety\"].unique()"
   ]
  },
  {
   "cell_type": "code",
   "execution_count": 17,
   "metadata": {},
   "outputs": [
    {
     "data": {
      "text/html": [
       "<div>\n",
       "<style scoped>\n",
       "    .dataframe tbody tr th:only-of-type {\n",
       "        vertical-align: middle;\n",
       "    }\n",
       "\n",
       "    .dataframe tbody tr th {\n",
       "        vertical-align: top;\n",
       "    }\n",
       "\n",
       "    .dataframe thead th {\n",
       "        text-align: right;\n",
       "    }\n",
       "</style>\n",
       "<table border=\"1\" class=\"dataframe\">\n",
       "  <thead>\n",
       "    <tr style=\"text-align: right;\">\n",
       "      <th></th>\n",
       "      <th>State</th>\n",
       "      <th>Centre</th>\n",
       "      <th>Commodity</th>\n",
       "      <th>Variety</th>\n",
       "      <th>Unit</th>\n",
       "      <th>Category</th>\n",
       "      <th>Date</th>\n",
       "      <th>Retail Price</th>\n",
       "      <th>Month</th>\n",
       "      <th>Year</th>\n",
       "    </tr>\n",
       "  </thead>\n",
       "  <tbody>\n",
       "    <tr>\n",
       "      <th>0</th>\n",
       "      <td>Andhra Pradesh</td>\n",
       "      <td>Chittoor</td>\n",
       "      <td>Moong</td>\n",
       "      <td>Split</td>\n",
       "      <td>Kg.</td>\n",
       "      <td>Food</td>\n",
       "      <td>JAN-2001</td>\n",
       "      <td>24.000000</td>\n",
       "      <td>JAN</td>\n",
       "      <td>2001</td>\n",
       "    </tr>\n",
       "    <tr>\n",
       "      <th>1</th>\n",
       "      <td>Andhra Pradesh</td>\n",
       "      <td>Guntur</td>\n",
       "      <td>Moong</td>\n",
       "      <td>Split</td>\n",
       "      <td>Kg.</td>\n",
       "      <td>Food</td>\n",
       "      <td>JAN-2001</td>\n",
       "      <td>26.000000</td>\n",
       "      <td>JAN</td>\n",
       "      <td>2001</td>\n",
       "    </tr>\n",
       "    <tr>\n",
       "      <th>2</th>\n",
       "      <td>Andhra Pradesh</td>\n",
       "      <td>Kurnool</td>\n",
       "      <td>Moong</td>\n",
       "      <td>Split</td>\n",
       "      <td>Kg.</td>\n",
       "      <td>Food</td>\n",
       "      <td>JAN-2001</td>\n",
       "      <td>25.500000</td>\n",
       "      <td>JAN</td>\n",
       "      <td>2001</td>\n",
       "    </tr>\n",
       "    <tr>\n",
       "      <th>3</th>\n",
       "      <td>Andhra Pradesh</td>\n",
       "      <td>Vishakhapatnam</td>\n",
       "      <td>Moong</td>\n",
       "      <td>Split</td>\n",
       "      <td>Kg.</td>\n",
       "      <td>Food</td>\n",
       "      <td>JAN-2001</td>\n",
       "      <td>25.166667</td>\n",
       "      <td>JAN</td>\n",
       "      <td>2001</td>\n",
       "    </tr>\n",
       "    <tr>\n",
       "      <th>4</th>\n",
       "      <td>Bihar</td>\n",
       "      <td>Gaya</td>\n",
       "      <td>Moong</td>\n",
       "      <td>Split</td>\n",
       "      <td>Kg.</td>\n",
       "      <td>Food</td>\n",
       "      <td>JAN-2001</td>\n",
       "      <td>27.500000</td>\n",
       "      <td>JAN</td>\n",
       "      <td>2001</td>\n",
       "    </tr>\n",
       "    <tr>\n",
       "      <th>...</th>\n",
       "      <td>...</td>\n",
       "      <td>...</td>\n",
       "      <td>...</td>\n",
       "      <td>...</td>\n",
       "      <td>...</td>\n",
       "      <td>...</td>\n",
       "      <td>...</td>\n",
       "      <td>...</td>\n",
       "      <td>...</td>\n",
       "      <td>...</td>\n",
       "    </tr>\n",
       "    <tr>\n",
       "      <th>1015882</th>\n",
       "      <td>West Bengal</td>\n",
       "      <td>Jalpaiguri</td>\n",
       "      <td>Wheat</td>\n",
       "      <td>Kalyan HYV</td>\n",
       "      <td>Kg.</td>\n",
       "      <td>Food</td>\n",
       "      <td>MAR-2021</td>\n",
       "      <td>29.301980</td>\n",
       "      <td>MAR</td>\n",
       "      <td>2021</td>\n",
       "    </tr>\n",
       "    <tr>\n",
       "      <th>1015883</th>\n",
       "      <td>West Bengal</td>\n",
       "      <td>Kolkata</td>\n",
       "      <td>Wheat</td>\n",
       "      <td>Desi</td>\n",
       "      <td>Kg.</td>\n",
       "      <td>Food</td>\n",
       "      <td>MAR-2021</td>\n",
       "      <td>29.301980</td>\n",
       "      <td>MAR</td>\n",
       "      <td>2021</td>\n",
       "    </tr>\n",
       "    <tr>\n",
       "      <th>1015884</th>\n",
       "      <td>West Bengal</td>\n",
       "      <td>Kolkata</td>\n",
       "      <td>Wheat</td>\n",
       "      <td>Kalyan HYV</td>\n",
       "      <td>Kg.</td>\n",
       "      <td>Food</td>\n",
       "      <td>MAR-2021</td>\n",
       "      <td>29.301980</td>\n",
       "      <td>MAR</td>\n",
       "      <td>2021</td>\n",
       "    </tr>\n",
       "    <tr>\n",
       "      <th>1015885</th>\n",
       "      <td>West Bengal</td>\n",
       "      <td>Malda</td>\n",
       "      <td>Wheat</td>\n",
       "      <td>Desi</td>\n",
       "      <td>Kg.</td>\n",
       "      <td>Food</td>\n",
       "      <td>MAR-2021</td>\n",
       "      <td>20.000000</td>\n",
       "      <td>MAR</td>\n",
       "      <td>2021</td>\n",
       "    </tr>\n",
       "    <tr>\n",
       "      <th>1015886</th>\n",
       "      <td>West Bengal</td>\n",
       "      <td>Malda</td>\n",
       "      <td>Wheat</td>\n",
       "      <td>Kalyan HYV</td>\n",
       "      <td>Kg.</td>\n",
       "      <td>Food</td>\n",
       "      <td>MAR-2021</td>\n",
       "      <td>29.301980</td>\n",
       "      <td>MAR</td>\n",
       "      <td>2021</td>\n",
       "    </tr>\n",
       "  </tbody>\n",
       "</table>\n",
       "<p>1015887 rows × 10 columns</p>\n",
       "</div>"
      ],
      "text/plain": [
       "                  State          Centre Commodity     Variety Unit Category  \\\n",
       "0        Andhra Pradesh        Chittoor     Moong       Split  Kg.     Food   \n",
       "1        Andhra Pradesh          Guntur     Moong       Split  Kg.     Food   \n",
       "2        Andhra Pradesh         Kurnool     Moong       Split  Kg.     Food   \n",
       "3        Andhra Pradesh  Vishakhapatnam     Moong       Split  Kg.     Food   \n",
       "4                 Bihar            Gaya     Moong       Split  Kg.     Food   \n",
       "...                 ...             ...       ...         ...  ...      ...   \n",
       "1015882     West Bengal      Jalpaiguri     Wheat  Kalyan HYV  Kg.     Food   \n",
       "1015883     West Bengal         Kolkata     Wheat        Desi  Kg.     Food   \n",
       "1015884     West Bengal         Kolkata     Wheat  Kalyan HYV  Kg.     Food   \n",
       "1015885     West Bengal           Malda     Wheat        Desi  Kg.     Food   \n",
       "1015886     West Bengal           Malda     Wheat  Kalyan HYV  Kg.     Food   \n",
       "\n",
       "             Date  Retail Price Month  Year  \n",
       "0        JAN-2001     24.000000   JAN  2001  \n",
       "1        JAN-2001     26.000000   JAN  2001  \n",
       "2        JAN-2001     25.500000   JAN  2001  \n",
       "3        JAN-2001     25.166667   JAN  2001  \n",
       "4        JAN-2001     27.500000   JAN  2001  \n",
       "...           ...           ...   ...   ...  \n",
       "1015882  MAR-2021     29.301980   MAR  2021  \n",
       "1015883  MAR-2021     29.301980   MAR  2021  \n",
       "1015884  MAR-2021     29.301980   MAR  2021  \n",
       "1015885  MAR-2021     20.000000   MAR  2021  \n",
       "1015886  MAR-2021     29.301980   MAR  2021  \n",
       "\n",
       "[1015887 rows x 10 columns]"
      ]
     },
     "execution_count": 17,
     "metadata": {},
     "output_type": "execute_result"
    }
   ],
   "source": [
    "df[['Month','Year']]=df.Date.str.split(\"-\",expand=True)\n",
    "df"
   ]
  },
  {
   "cell_type": "code",
   "execution_count": 18,
   "metadata": {},
   "outputs": [
    {
     "data": {
      "text/plain": [
       "<AxesSubplot:xlabel='Year'>"
      ]
     },
     "execution_count": 18,
     "metadata": {},
     "output_type": "execute_result"
    },
    {
     "data": {
      "image/png": "[encoded data removed]",
      "text/plain": [
       "<Figure size 864x360 with 1 Axes>"
      ]
     },
     "metadata": {
      "needs_background": "light"
     },
     "output_type": "display_data"
    }
   ],
   "source": [
    "#7. What is the pomphret price in Kerala from 2001 to 2021?\n",
    "F=df[(df[\"Commodity\"]==\"Fish\") & (df[\"Variety\"]==\"Pomphret\") & (df[\"State\"]==\"Kerala\")]\n",
    "t=F.groupby(\"Year\")[\"Retail Price\"].mean()\n",
    "plt.figure(figsize = (12,5))\n",
    "t.plot(kind=\"line\")\n"
   ]
  },
  {
   "cell_type": "code",
   "execution_count": 19,
   "metadata": {},
   "outputs": [
    {
     "data": {
      "text/plain": [
       "30"
      ]
     },
     "execution_count": 19,
     "metadata": {},
     "output_type": "execute_result"
    }
   ],
   "source": [
    "#8. How many states has meat as commodity?\n",
    "meat=df[df[\"Commodity\"]==\"Meat\"]\n",
    "m=len(meat[\"State\"].unique())\n",
    "m"
   ]
  },
  {
   "cell_type": "code",
   "execution_count": 136,
   "metadata": {},
   "outputs": [
    {
     "data": {
      "text/plain": [
       "1"
      ]
     },
     "execution_count": 136,
     "metadata": {},
     "output_type": "execute_result"
    }
   ],
   "source": [
    "#9. How many types of variety of meat?\n",
    "variety_meat=len(meat[\"Variety\"].unique())\n",
    "variety_meat"
   ]
  },
  {
   "cell_type": "code",
   "execution_count": 20,
   "metadata": {},
   "outputs": [
    {
     "data": {
      "text/html": [
       "<div>\n",
       "<style scoped>\n",
       "    .dataframe tbody tr th:only-of-type {\n",
       "        vertical-align: middle;\n",
       "    }\n",
       "\n",
       "    .dataframe tbody tr th {\n",
       "        vertical-align: top;\n",
       "    }\n",
       "\n",
       "    .dataframe thead th {\n",
       "        text-align: right;\n",
       "    }\n",
       "</style>\n",
       "<table border=\"1\" class=\"dataframe\">\n",
       "  <thead>\n",
       "    <tr style=\"text-align: right;\">\n",
       "      <th></th>\n",
       "      <th>State</th>\n",
       "      <th>Centre</th>\n",
       "      <th>Commodity</th>\n",
       "      <th>Variety</th>\n",
       "      <th>Unit</th>\n",
       "      <th>Category</th>\n",
       "      <th>Date</th>\n",
       "      <th>Retail Price</th>\n",
       "      <th>Month</th>\n",
       "      <th>Year</th>\n",
       "    </tr>\n",
       "  </thead>\n",
       "  <tbody>\n",
       "    <tr>\n",
       "      <th>181994</th>\n",
       "      <td>West Bengal</td>\n",
       "      <td>Howrah</td>\n",
       "      <td>Rice</td>\n",
       "      <td>Common/Coarse</td>\n",
       "      <td>Kg.</td>\n",
       "      <td>Food</td>\n",
       "      <td>DEC-2014</td>\n",
       "      <td>225.0</td>\n",
       "      <td>DEC</td>\n",
       "      <td>2014</td>\n",
       "    </tr>\n",
       "    <tr>\n",
       "      <th>160960</th>\n",
       "      <td>Assam</td>\n",
       "      <td>Guwahati</td>\n",
       "      <td>Rice</td>\n",
       "      <td>Common/Coarse</td>\n",
       "      <td>Kg.</td>\n",
       "      <td>Food</td>\n",
       "      <td>JUN-2013</td>\n",
       "      <td>225.0</td>\n",
       "      <td>JUN</td>\n",
       "      <td>2013</td>\n",
       "    </tr>\n",
       "    <tr>\n",
       "      <th>55806</th>\n",
       "      <td>Rajasthan</td>\n",
       "      <td>Swaimadhopur</td>\n",
       "      <td>Rice</td>\n",
       "      <td>Fine</td>\n",
       "      <td>Kg.</td>\n",
       "      <td>Food</td>\n",
       "      <td>DEC-2005</td>\n",
       "      <td>223.0</td>\n",
       "      <td>DEC</td>\n",
       "      <td>2005</td>\n",
       "    </tr>\n",
       "    <tr>\n",
       "      <th>208837</th>\n",
       "      <td>Rajasthan</td>\n",
       "      <td>Dausa</td>\n",
       "      <td>Rice</td>\n",
       "      <td>Superfine</td>\n",
       "      <td>Kg.</td>\n",
       "      <td>Food</td>\n",
       "      <td>NOV-2016</td>\n",
       "      <td>210.0</td>\n",
       "      <td>NOV</td>\n",
       "      <td>2016</td>\n",
       "    </tr>\n",
       "    <tr>\n",
       "      <th>207641</th>\n",
       "      <td>Rajasthan</td>\n",
       "      <td>Dausa</td>\n",
       "      <td>Rice</td>\n",
       "      <td>Superfine</td>\n",
       "      <td>Kg.</td>\n",
       "      <td>Food</td>\n",
       "      <td>OCT-2016</td>\n",
       "      <td>195.0</td>\n",
       "      <td>OCT</td>\n",
       "      <td>2016</td>\n",
       "    </tr>\n",
       "    <tr>\n",
       "      <th>...</th>\n",
       "      <td>...</td>\n",
       "      <td>...</td>\n",
       "      <td>...</td>\n",
       "      <td>...</td>\n",
       "      <td>...</td>\n",
       "      <td>...</td>\n",
       "      <td>...</td>\n",
       "      <td>...</td>\n",
       "      <td>...</td>\n",
       "      <td>...</td>\n",
       "    </tr>\n",
       "    <tr>\n",
       "      <th>56936</th>\n",
       "      <td>Madhya Pradesh</td>\n",
       "      <td>Rewa</td>\n",
       "      <td>Rice</td>\n",
       "      <td>Common/Coarse</td>\n",
       "      <td>Kg.</td>\n",
       "      <td>Food</td>\n",
       "      <td>JAN-2006</td>\n",
       "      <td>7.0</td>\n",
       "      <td>JAN</td>\n",
       "      <td>2006</td>\n",
       "    </tr>\n",
       "    <tr>\n",
       "      <th>21919</th>\n",
       "      <td>Orissa</td>\n",
       "      <td>Bhubneshwar</td>\n",
       "      <td>Rice</td>\n",
       "      <td>Common/Coarse</td>\n",
       "      <td>Kg.</td>\n",
       "      <td>Food</td>\n",
       "      <td>DEC-2002</td>\n",
       "      <td>7.0</td>\n",
       "      <td>DEC</td>\n",
       "      <td>2002</td>\n",
       "    </tr>\n",
       "    <tr>\n",
       "      <th>38617</th>\n",
       "      <td>Uttar Pradesh</td>\n",
       "      <td>Gorakhpur</td>\n",
       "      <td>Rice</td>\n",
       "      <td>Common/Coarse</td>\n",
       "      <td>Kg.</td>\n",
       "      <td>Food</td>\n",
       "      <td>AUG-2004</td>\n",
       "      <td>7.0</td>\n",
       "      <td>AUG</td>\n",
       "      <td>2004</td>\n",
       "    </tr>\n",
       "    <tr>\n",
       "      <th>2612</th>\n",
       "      <td>Uttarakhand</td>\n",
       "      <td>Haldwani</td>\n",
       "      <td>Rice</td>\n",
       "      <td>Common/Coarse</td>\n",
       "      <td>Kg.</td>\n",
       "      <td>Food</td>\n",
       "      <td>MAR-2001</td>\n",
       "      <td>7.0</td>\n",
       "      <td>MAR</td>\n",
       "      <td>2001</td>\n",
       "    </tr>\n",
       "    <tr>\n",
       "      <th>35626</th>\n",
       "      <td>Uttar Pradesh</td>\n",
       "      <td>Gorakhpur</td>\n",
       "      <td>Rice</td>\n",
       "      <td>Common/Coarse</td>\n",
       "      <td>Kg.</td>\n",
       "      <td>Food</td>\n",
       "      <td>APR-2004</td>\n",
       "      <td>7.0</td>\n",
       "      <td>APR</td>\n",
       "      <td>2004</td>\n",
       "    </tr>\n",
       "  </tbody>\n",
       "</table>\n",
       "<p>59051 rows × 10 columns</p>\n",
       "</div>"
      ],
      "text/plain": [
       "                 State        Centre Commodity        Variety Unit Category  \\\n",
       "181994     West Bengal        Howrah      Rice  Common/Coarse  Kg.     Food   \n",
       "160960           Assam      Guwahati      Rice  Common/Coarse  Kg.     Food   \n",
       "55806        Rajasthan  Swaimadhopur      Rice           Fine  Kg.     Food   \n",
       "208837       Rajasthan         Dausa      Rice      Superfine  Kg.     Food   \n",
       "207641       Rajasthan         Dausa      Rice      Superfine  Kg.     Food   \n",
       "...                ...           ...       ...            ...  ...      ...   \n",
       "56936   Madhya Pradesh          Rewa      Rice  Common/Coarse  Kg.     Food   \n",
       "21919           Orissa   Bhubneshwar      Rice  Common/Coarse  Kg.     Food   \n",
       "38617    Uttar Pradesh     Gorakhpur      Rice  Common/Coarse  Kg.     Food   \n",
       "2612       Uttarakhand      Haldwani      Rice  Common/Coarse  Kg.     Food   \n",
       "35626    Uttar Pradesh     Gorakhpur      Rice  Common/Coarse  Kg.     Food   \n",
       "\n",
       "            Date  Retail Price Month  Year  \n",
       "181994  DEC-2014         225.0   DEC  2014  \n",
       "160960  JUN-2013         225.0   JUN  2013  \n",
       "55806   DEC-2005         223.0   DEC  2005  \n",
       "208837  NOV-2016         210.0   NOV  2016  \n",
       "207641  OCT-2016         195.0   OCT  2016  \n",
       "...          ...           ...   ...   ...  \n",
       "56936   JAN-2006           7.0   JAN  2006  \n",
       "21919   DEC-2002           7.0   DEC  2002  \n",
       "38617   AUG-2004           7.0   AUG  2004  \n",
       "2612    MAR-2001           7.0   MAR  2001  \n",
       "35626   APR-2004           7.0   APR  2004  \n",
       "\n",
       "[59051 rows x 10 columns]"
      ]
     },
     "execution_count": 20,
     "metadata": {},
     "output_type": "execute_result"
    }
   ],
   "source": [
    "#10.Which district has the highest price of rice in Maharastra?\n",
    "df[(df[\"Commodity\"]==\"Rice\") ].sort_values(\"Retail Price\",ascending=False)\n",
    "#column district missing"
   ]
  },
  {
   "cell_type": "code",
   "execution_count": 21,
   "metadata": {},
   "outputs": [],
   "source": [
    "#11What is the price difference between desi wheat and Kalyan HYV statewise?\n",
    "des=df[(df[\"Commodity\"]==\"Wheat\") & (df[\"Variety\"]==\"Desi\")]\n",
    "Kl=df[(df[\"Commodity\"]==\"Wheat\") & (df[\"Variety\"]==\"Kalyan HYV\")]\n",
    "t1=des.groupby(\"State\")[\"Retail Price\"].mean()\n",
    "t2=Kl.groupby(\"State\")[\"Retail Price\"].mean()\n",
    "\n",
    "df_wheat = {\"State\":[],\"Kalyan HYV\":[],\"Desi\":[],\"Diff\":[]}\n",
    "\n",
    "state =df[\"State\"].unique()\n",
    "for i in state:\n",
    "    kl=df[(df[\"Commodity\"]==\"Wheat\") & (df[\"Variety\"]==\"Kalyan HYV\") & (df[\"State\"]==i)][\"Retail Price\"].mean()\n",
    "    desi=df[(df[\"Commodity\"]==\"Wheat\") & (df[\"Variety\"]==\"Desi\") & (df[\"State\"]==i)][\"Retail Price\"].mean()\n",
    "    #print(kl-desi,i)\n",
    "    df_wheat[\"Kalyan HYV\"].append(kl)\n",
    "    df_wheat[\"Desi\"].append(desi)\n",
    "    df_wheat[\"Diff\"].append(kl-desi)\n",
    "    df_wheat[\"State\"].append(i)\n"
   ]
  },
  {
   "cell_type": "code",
   "execution_count": 22,
   "metadata": {},
   "outputs": [],
   "source": [
    "df_wheat =pd.DataFrame(df_wheat)"
   ]
  },
  {
   "cell_type": "code",
   "execution_count": 140,
   "metadata": {},
   "outputs": [
    {
     "data": {
      "text/html": [
       "<div>\n",
       "<style scoped>\n",
       "    .dataframe tbody tr th:only-of-type {\n",
       "        vertical-align: middle;\n",
       "    }\n",
       "\n",
       "    .dataframe tbody tr th {\n",
       "        vertical-align: top;\n",
       "    }\n",
       "\n",
       "    .dataframe thead th {\n",
       "        text-align: right;\n",
       "    }\n",
       "</style>\n",
       "<table border=\"1\" class=\"dataframe\">\n",
       "  <thead>\n",
       "    <tr style=\"text-align: right;\">\n",
       "      <th></th>\n",
       "      <th>State</th>\n",
       "      <th>Kalyan HYV</th>\n",
       "      <th>Desi</th>\n",
       "      <th>Diff</th>\n",
       "    </tr>\n",
       "  </thead>\n",
       "  <tbody>\n",
       "    <tr>\n",
       "      <th>0</th>\n",
       "      <td>Andhra Pradesh</td>\n",
       "      <td>23.717722</td>\n",
       "      <td>24.511415</td>\n",
       "      <td>-0.793693</td>\n",
       "    </tr>\n",
       "    <tr>\n",
       "      <th>1</th>\n",
       "      <td>Bihar</td>\n",
       "      <td>16.111461</td>\n",
       "      <td>19.133088</td>\n",
       "      <td>-3.021627</td>\n",
       "    </tr>\n",
       "    <tr>\n",
       "      <th>2</th>\n",
       "      <td>Goa</td>\n",
       "      <td>20.303318</td>\n",
       "      <td>21.728017</td>\n",
       "      <td>-1.424700</td>\n",
       "    </tr>\n",
       "    <tr>\n",
       "      <th>3</th>\n",
       "      <td>Gujarat</td>\n",
       "      <td>18.612707</td>\n",
       "      <td>18.185809</td>\n",
       "      <td>0.426898</td>\n",
       "    </tr>\n",
       "    <tr>\n",
       "      <th>4</th>\n",
       "      <td>Haryana</td>\n",
       "      <td>12.454192</td>\n",
       "      <td>24.345511</td>\n",
       "      <td>-11.891320</td>\n",
       "    </tr>\n",
       "    <tr>\n",
       "      <th>5</th>\n",
       "      <td>Himachal Pradesh</td>\n",
       "      <td>13.229819</td>\n",
       "      <td>11.537668</td>\n",
       "      <td>1.692150</td>\n",
       "    </tr>\n",
       "    <tr>\n",
       "      <th>6</th>\n",
       "      <td>Jharkhand</td>\n",
       "      <td>16.568926</td>\n",
       "      <td>18.115675</td>\n",
       "      <td>-1.546749</td>\n",
       "    </tr>\n",
       "    <tr>\n",
       "      <th>7</th>\n",
       "      <td>Karnataka</td>\n",
       "      <td>23.353091</td>\n",
       "      <td>24.191514</td>\n",
       "      <td>-0.838422</td>\n",
       "    </tr>\n",
       "    <tr>\n",
       "      <th>8</th>\n",
       "      <td>Kerala</td>\n",
       "      <td>19.621603</td>\n",
       "      <td>22.803777</td>\n",
       "      <td>-3.182174</td>\n",
       "    </tr>\n",
       "    <tr>\n",
       "      <th>9</th>\n",
       "      <td>Madhya Pradesh</td>\n",
       "      <td>16.345349</td>\n",
       "      <td>18.620079</td>\n",
       "      <td>-2.274730</td>\n",
       "    </tr>\n",
       "    <tr>\n",
       "      <th>10</th>\n",
       "      <td>Maharashtra</td>\n",
       "      <td>22.076335</td>\n",
       "      <td>23.915587</td>\n",
       "      <td>-1.839251</td>\n",
       "    </tr>\n",
       "    <tr>\n",
       "      <th>11</th>\n",
       "      <td>Mizoram</td>\n",
       "      <td>NaN</td>\n",
       "      <td>NaN</td>\n",
       "      <td>NaN</td>\n",
       "    </tr>\n",
       "    <tr>\n",
       "      <th>12</th>\n",
       "      <td>National Capital</td>\n",
       "      <td>15.539583</td>\n",
       "      <td>12.549046</td>\n",
       "      <td>2.990537</td>\n",
       "    </tr>\n",
       "    <tr>\n",
       "      <th>13</th>\n",
       "      <td>Orissa</td>\n",
       "      <td>16.581153</td>\n",
       "      <td>21.796394</td>\n",
       "      <td>-5.215242</td>\n",
       "    </tr>\n",
       "    <tr>\n",
       "      <th>14</th>\n",
       "      <td>Punjab</td>\n",
       "      <td>12.655001</td>\n",
       "      <td>18.881059</td>\n",
       "      <td>-6.226058</td>\n",
       "    </tr>\n",
       "    <tr>\n",
       "      <th>15</th>\n",
       "      <td>Rajasthan</td>\n",
       "      <td>16.200697</td>\n",
       "      <td>18.886104</td>\n",
       "      <td>-2.685407</td>\n",
       "    </tr>\n",
       "    <tr>\n",
       "      <th>16</th>\n",
       "      <td>Tamil Nadu</td>\n",
       "      <td>28.197581</td>\n",
       "      <td>30.327121</td>\n",
       "      <td>-2.129541</td>\n",
       "    </tr>\n",
       "    <tr>\n",
       "      <th>17</th>\n",
       "      <td>Tripura</td>\n",
       "      <td>28.828747</td>\n",
       "      <td>29.728747</td>\n",
       "      <td>-0.900000</td>\n",
       "    </tr>\n",
       "    <tr>\n",
       "      <th>18</th>\n",
       "      <td>Uttar Pradesh</td>\n",
       "      <td>14.992091</td>\n",
       "      <td>15.673052</td>\n",
       "      <td>-0.680961</td>\n",
       "    </tr>\n",
       "    <tr>\n",
       "      <th>19</th>\n",
       "      <td>Uttarakhand</td>\n",
       "      <td>17.470107</td>\n",
       "      <td>25.047725</td>\n",
       "      <td>-7.577618</td>\n",
       "    </tr>\n",
       "    <tr>\n",
       "      <th>20</th>\n",
       "      <td>West Bengal</td>\n",
       "      <td>15.778763</td>\n",
       "      <td>19.522849</td>\n",
       "      <td>-3.744087</td>\n",
       "    </tr>\n",
       "    <tr>\n",
       "      <th>21</th>\n",
       "      <td>Jammu Kashmir</td>\n",
       "      <td>16.136671</td>\n",
       "      <td>22.491499</td>\n",
       "      <td>-6.354828</td>\n",
       "    </tr>\n",
       "    <tr>\n",
       "      <th>22</th>\n",
       "      <td>Meghalaya</td>\n",
       "      <td>18.884267</td>\n",
       "      <td>NaN</td>\n",
       "      <td>NaN</td>\n",
       "    </tr>\n",
       "    <tr>\n",
       "      <th>23</th>\n",
       "      <td>Telangana</td>\n",
       "      <td>23.276190</td>\n",
       "      <td>21.942623</td>\n",
       "      <td>1.333568</td>\n",
       "    </tr>\n",
       "    <tr>\n",
       "      <th>24</th>\n",
       "      <td>Union Territories</td>\n",
       "      <td>18.077329</td>\n",
       "      <td>14.785695</td>\n",
       "      <td>3.291634</td>\n",
       "    </tr>\n",
       "    <tr>\n",
       "      <th>25</th>\n",
       "      <td>Assam</td>\n",
       "      <td>25.018182</td>\n",
       "      <td>21.539568</td>\n",
       "      <td>3.478613</td>\n",
       "    </tr>\n",
       "    <tr>\n",
       "      <th>26</th>\n",
       "      <td>Arunachal Pradesh</td>\n",
       "      <td>34.393887</td>\n",
       "      <td>30.593887</td>\n",
       "      <td>3.800000</td>\n",
       "    </tr>\n",
       "    <tr>\n",
       "      <th>27</th>\n",
       "      <td>Manipur</td>\n",
       "      <td>27.828747</td>\n",
       "      <td>NaN</td>\n",
       "      <td>NaN</td>\n",
       "    </tr>\n",
       "    <tr>\n",
       "      <th>28</th>\n",
       "      <td>Nagaland</td>\n",
       "      <td>25.368747</td>\n",
       "      <td>26.791344</td>\n",
       "      <td>-1.422597</td>\n",
       "    </tr>\n",
       "    <tr>\n",
       "      <th>29</th>\n",
       "      <td>Sikkim</td>\n",
       "      <td>25.331249</td>\n",
       "      <td>23.751388</td>\n",
       "      <td>1.579861</td>\n",
       "    </tr>\n",
       "  </tbody>\n",
       "</table>\n",
       "</div>"
      ],
      "text/plain": [
       "                State  Kalyan HYV       Desi       Diff\n",
       "0      Andhra Pradesh   23.717722  24.511415  -0.793693\n",
       "1               Bihar   16.111461  19.133088  -3.021627\n",
       "2                 Goa   20.303318  21.728017  -1.424700\n",
       "3             Gujarat   18.612707  18.185809   0.426898\n",
       "4             Haryana   12.454192  24.345511 -11.891320\n",
       "5    Himachal Pradesh   13.229819  11.537668   1.692150\n",
       "6           Jharkhand   16.568926  18.115675  -1.546749\n",
       "7           Karnataka   23.353091  24.191514  -0.838422\n",
       "8              Kerala   19.621603  22.803777  -3.182174\n",
       "9      Madhya Pradesh   16.345349  18.620079  -2.274730\n",
       "10        Maharashtra   22.076335  23.915587  -1.839251\n",
       "11            Mizoram         NaN        NaN        NaN\n",
       "12   National Capital   15.539583  12.549046   2.990537\n",
       "13             Orissa   16.581153  21.796394  -5.215242\n",
       "14             Punjab   12.655001  18.881059  -6.226058\n",
       "15          Rajasthan   16.200697  18.886104  -2.685407\n",
       "16         Tamil Nadu   28.197581  30.327121  -2.129541\n",
       "17            Tripura   28.828747  29.728747  -0.900000\n",
       "18      Uttar Pradesh   14.992091  15.673052  -0.680961\n",
       "19        Uttarakhand   17.470107  25.047725  -7.577618\n",
       "20        West Bengal   15.778763  19.522849  -3.744087\n",
       "21      Jammu Kashmir   16.136671  22.491499  -6.354828\n",
       "22          Meghalaya   18.884267        NaN        NaN\n",
       "23          Telangana   23.276190  21.942623   1.333568\n",
       "24  Union Territories   18.077329  14.785695   3.291634\n",
       "25              Assam   25.018182  21.539568   3.478613\n",
       "26  Arunachal Pradesh   34.393887  30.593887   3.800000\n",
       "27            Manipur   27.828747        NaN        NaN\n",
       "28           Nagaland   25.368747  26.791344  -1.422597\n",
       "29             Sikkim   25.331249  23.751388   1.579861"
      ]
     },
     "execution_count": 140,
     "metadata": {},
     "output_type": "execute_result"
    }
   ],
   "source": [
    "df_wheat"
   ]
  },
  {
   "cell_type": "code",
   "execution_count": 25,
   "metadata": {},
   "outputs": [
    {
     "data": {
      "image/png": "[encoded data removed]",
      "text/plain": [
       "<Figure size 432x288 with 1 Axes>"
      ]
     },
     "metadata": {
      "needs_background": "light"
     },
     "output_type": "display_data"
    }
   ],
   "source": [
    "\n",
    "df_wheat.plot(x=\"State\",y=[\"Desi\",\"Kalyan HYV\"],kind=\"bar\")\n",
    "plt.show()"
   ]
  },
  {
   "cell_type": "code",
   "execution_count": 26,
   "metadata": {},
   "outputs": [
    {
     "data": {
      "image/png": "[encoded data removed]",
      "text/plain": [
       "<Figure size 432x288 with 1 Axes>"
      ]
     },
     "metadata": {
      "needs_background": "light"
     },
     "output_type": "display_data"
    }
   ],
   "source": [
    "df_w.plot.barh()\n",
    "plt.show()"
   ]
  },
  {
   "cell_type": "code",
   "execution_count": 27,
   "metadata": {},
   "outputs": [
    {
     "data": {
      "image/png": "[encoded data removed]",
      "text/plain": [
       "<Figure size 432x288 with 1 Axes>"
      ]
     },
     "metadata": {},
     "output_type": "display_data"
    }
   ],
   "source": [
    "#12. How many variety of coffee is available and what is their price differences?\n",
    "coffee=df[df[\"Commodity\"]==\"Coffee\"]\n",
    "c=coffee.groupby(\"Variety\")[\"Retail Price\"].mean()\n",
    "\n",
    "plt.pie(c, colors = [\"red\", \"green\"], labels=[\"Instant\", \"Powdered\"], autopct=\"%0.2f%%\", \n",
    "        explode = (0,0.2), shadow=True)\n",
    "plt.title(\"Price difference Coffee variety\")\n",
    "plt.legend(loc = \"lower right\")\n",
    "plt.show()"
   ]
  },
  {
   "cell_type": "code",
   "execution_count": 67,
   "metadata": {},
   "outputs": [
    {
     "data": {
      "text/plain": [
       "{'Instant': [458.9739974853259],\n",
       " 'Powdered': [470.92536616928504],\n",
       " 'Diff': [-11.951368683959117]}"
      ]
     },
     "execution_count": 67,
     "metadata": {},
     "output_type": "execute_result"
    }
   ],
   "source": [
    "df_coffee = {\"Instant\":[],\"Powdered\":[],\"Diff\":[]}\n",
    "inst=df[(df[\"Commodity\"]==\"Coffee\") & (df[\"Variety\"]==\"Instant\")][\"Retail Price\"].mean()\n",
    "powd=df[(df[\"Commodity\"]==\"Coffee\") & (df[\"Variety\"]==\"Powdered\")][\"Retail Price\"].mean()\n",
    "df_coffee[\"Instant\"].append(inst)\n",
    "df_coffee[\"Powdered\"].append(powd)\n",
    "df_coffee[\"Diff\"].append(inst-powd)\n",
    "df_coffee"
   ]
  },
  {
   "cell_type": "code",
   "execution_count": 177,
   "metadata": {},
   "outputs": [
    {
     "name": "stdout",
     "output_type": "stream",
     "text": [
      "Rohu 1Kg Size    996\n",
      "Pomphret         840\n",
      "Cat Fish         696\n",
      "Name: Variety, dtype: int64 2001\n",
      "Rohu 1Kg Size    996\n",
      "Pomphret         840\n",
      "Cat Fish         696\n",
      "Name: Variety, dtype: int64 2002\n",
      "Rohu 1Kg Size    996\n",
      "Pomphret         840\n",
      "Cat Fish         696\n",
      "Name: Variety, dtype: int64 2003\n",
      "Rohu 1Kg Size    996\n",
      "Pomphret         840\n",
      "Cat Fish         696\n",
      "Name: Variety, dtype: int64 2004\n",
      "Rohu 1Kg Size    996\n",
      "Pomphret         840\n",
      "Cat Fish         696\n",
      "Name: Variety, dtype: int64 2005\n",
      "Rohu 1Kg Size    996\n",
      "Pomphret         840\n",
      "Cat Fish         696\n",
      "Name: Variety, dtype: int64 2006\n",
      "Rohu 1Kg Size    996\n",
      "Pomphret         840\n",
      "Cat Fish         696\n",
      "Name: Variety, dtype: int64 2007\n",
      "Rohu 1Kg Size    996\n",
      "Pomphret         840\n",
      "Cat Fish         696\n",
      "Name: Variety, dtype: int64 2008\n",
      "Rohu 1Kg Size    996\n",
      "Pomphret         840\n",
      "Cat Fish         696\n",
      "Name: Variety, dtype: int64 2009\n",
      "Rohu 1Kg Size    996\n",
      "Pomphret         840\n",
      "Cat Fish         696\n",
      "Name: Variety, dtype: int64 2010\n",
      "Rohu 1Kg Size    996\n",
      "Pomphret         840\n",
      "Cat Fish         696\n",
      "Name: Variety, dtype: int64 2011\n",
      "Rohu 1Kg Size    996\n",
      "Pomphret         840\n",
      "Cat Fish         696\n",
      "Name: Variety, dtype: int64 2012\n",
      "Rohu 1Kg Size    996\n",
      "Pomphret         840\n",
      "Cat Fish         696\n",
      "Name: Variety, dtype: int64 2013\n",
      "Rohu 1Kg Size    996\n",
      "Pomphret         840\n",
      "Cat Fish         696\n",
      "Name: Variety, dtype: int64 2014\n",
      "Rohu 1Kg Size    996\n",
      "Pomphret         840\n",
      "Cat Fish         696\n",
      "Name: Variety, dtype: int64 2015\n",
      "Rohu 1Kg Size    996\n",
      "Pomphret         840\n",
      "Cat Fish         696\n",
      "Name: Variety, dtype: int64 2016\n",
      "Rohu 1Kg Size    996\n",
      "Pomphret         840\n",
      "Cat Fish         696\n",
      "Name: Variety, dtype: int64 2017\n",
      "Rohu 1Kg Size    996\n",
      "Pomphret         840\n",
      "Cat Fish         696\n",
      "Name: Variety, dtype: int64 2018\n",
      "Rohu 1Kg Size    996\n",
      "Pomphret         840\n",
      "Cat Fish         696\n",
      "Name: Variety, dtype: int64 2019\n",
      "Rohu 1Kg Size    996\n",
      "Pomphret         840\n",
      "Cat Fish         696\n",
      "Name: Variety, dtype: int64 2020\n",
      "Rohu 1Kg Size    249\n",
      "Pomphret         210\n",
      "Cat Fish         174\n",
      "Name: Variety, dtype: int64 2021\n"
     ]
    }
   ],
   "source": [
    "#13. What are the varieties of fish available in the market from 2001 to 2010?\n",
    "for i in range(2001, 2022):\n",
    "    f=df[(df[\"Commodity\"]==\"Fish\") & (df[\"Year\"]==str(i))]\n",
    "    print(f.Variety.value_counts(), i)\n"
   ]
  },
  {
   "cell_type": "code",
   "execution_count": 30,
   "metadata": {},
   "outputs": [],
   "source": [
    "#14. Which state has lowest price of Bajra according to yearwise?\n",
    "Baj = df[df[\"Commodity\"]==\"Bajra\"]\n",
    "t=Baj.groupby(\"Year\")[\"Retail Price\"].min()\n"
   ]
  },
  {
   "cell_type": "code",
   "execution_count": 31,
   "metadata": {},
   "outputs": [],
   "source": [
    "dat=Baj[\"Year\"].unique()"
   ]
  },
  {
   "cell_type": "code",
   "execution_count": 39,
   "metadata": {},
   "outputs": [
    {
     "name": "stdout",
     "output_type": "stream",
     "text": [
      "Minimum price of bajra in 2001::state::['Uttar Pradesh'] price::3.500\n",
      "Minimum price of bajra in 2002::state::['Madhya Pradesh'] price::4.000\n",
      "Minimum price of bajra in 2003::state::['Rajasthan'] price::4.500\n",
      "Minimum price of bajra in 2004::state::['Rajasthan'] price::4.000\n",
      "Minimum price of bajra in 2005::state::['Karnataka'] price::5.500\n",
      "Minimum price of bajra in 2006::state::['Bihar' 'Orissa' 'Karnataka' 'Rajasthan'] price::6.000\n",
      "Minimum price of bajra in 2007::state::['Rajasthan'] price::6.000\n",
      "Minimum price of bajra in 2008::state::['Rajasthan'] price::6.000\n",
      "Minimum price of bajra in 2009::state::['Uttar Pradesh'] price::7.500\n",
      "Minimum price of bajra in 2010::state::['Uttar Pradesh'] price::8.000\n",
      "Minimum price of bajra in 2011::state::['Rajasthan'] price::8.500\n",
      "Minimum price of bajra in 2012::state::['Rajasthan' 'Uttar Pradesh'] price::10.000\n",
      "Minimum price of bajra in 2013::state::['Punjab' 'Rajasthan'] price::12.000\n",
      "Minimum price of bajra in 2014::state::['Punjab' 'Rajasthan'] price::12.000\n",
      "Minimum price of bajra in 2015::state::['Rajasthan'] price::11.000\n",
      "Minimum price of bajra in 2016::state::['Haryana' 'Rajasthan'] price::14.000\n",
      "Minimum price of bajra in 2017::state::['Rajasthan'] price::12.000\n",
      "Minimum price of bajra in 2018::state::['Rajasthan'] price::12.000\n",
      "Minimum price of bajra in 2019::state::['Karnataka'] price::14.000\n",
      "Minimum price of bajra in 2020::state::['Karnataka'] price::15.000\n",
      "Minimum price of bajra in 2021::state::['Haryana'] price::14.900\n"
     ]
    }
   ],
   "source": [
    "pri=[]\n",
    "stat=[]\n",
    "year=[]\n",
    "for d in dat:\n",
    "    price=Baj[(Baj[\"Year\"]==d)][\"Retail Price\"].min()\n",
    "    sta=Baj[(Baj[\"Year\"]==d) & (Baj[\"Retail Price\"]==price)][\"State\"].unique()\n",
    "    print(\"Minimum price of bajra in %s::state::%s price::%0.3f\" %(d, sta, price))\n",
    "    pri.append(price)\n",
    "    stat.append(sta)\n",
    "    year.append(d)"
   ]
  },
  {
   "cell_type": "code",
   "execution_count": 48,
   "metadata": {},
   "outputs": [],
   "source": [
    "state=[]\n",
    "for i in stat:\n",
    "    state.append(i[0])       "
   ]
  },
  {
   "cell_type": "code",
   "execution_count": 49,
   "metadata": {},
   "outputs": [
    {
     "data": {
      "text/plain": [
       "['Uttar Pradesh',\n",
       " 'Madhya Pradesh',\n",
       " 'Rajasthan',\n",
       " 'Rajasthan',\n",
       " 'Karnataka',\n",
       " 'Bihar',\n",
       " 'Rajasthan',\n",
       " 'Rajasthan',\n",
       " 'Uttar Pradesh',\n",
       " 'Uttar Pradesh',\n",
       " 'Rajasthan',\n",
       " 'Rajasthan',\n",
       " 'Punjab',\n",
       " 'Punjab',\n",
       " 'Rajasthan',\n",
       " 'Haryana',\n",
       " 'Rajasthan',\n",
       " 'Rajasthan',\n",
       " 'Karnataka',\n",
       " 'Karnataka',\n",
       " 'Haryana']"
      ]
     },
     "execution_count": 49,
     "metadata": {},
     "output_type": "execute_result"
    }
   ],
   "source": [
    "state"
   ]
  },
  {
   "cell_type": "code",
   "execution_count": 50,
   "metadata": {},
   "outputs": [],
   "source": [
    "state[5]=\"Bihar\", \"Orissa\", \"Karnataka\",\"Rajastan\"\n",
    "state[11]=\"Rajastan\",\"Uttar Pradesh\"\n",
    "state[12]=\"Punjab, Rajastan\"\n",
    "state[13]=\"Punjab, Rajastan\"\n",
    "state[15]=\"Haryana, Rajastan\""
   ]
  },
  {
   "cell_type": "code",
   "execution_count": 51,
   "metadata": {},
   "outputs": [
    {
     "data": {
      "image/png": "[encoded data removed]",
      "text/plain": [
       "<Figure size 864x504 with 1 Axes>"
      ]
     },
     "metadata": {
      "needs_background": "light"
     },
     "output_type": "display_data"
    }
   ],
   "source": [
    "plt.figure(figsize=(12,7))\n",
    "bar_plot = plt.bar(year,pri)\n",
    "\n",
    "def autolabel(rects):\n",
    "    for idx,rect in enumerate(bar_plot):\n",
    "        height=rect.get_height()\n",
    "        plt.text(rect.get_x() + rect.get_width()/2,1.05*height,state[idx],ha='center',va='bottom',rotation=90)\n",
    "        \n",
    "autolabel(bar_plot)\n",
    "plt.show()\n",
    "\n"
   ]
  },
  {
   "cell_type": "code",
   "execution_count": 62,
   "metadata": {},
   "outputs": [
    {
     "name": "stdout",
     "output_type": "stream",
     "text": [
      "['FAQ']\n",
      "['FAQ']\n",
      "['FAQ']\n",
      "['FAQ']\n"
     ]
    }
   ],
   "source": [
    "#15. How many types of oils are available and their varieties?\n",
    "#comm = df[\"Commodity\"].unique()\n",
    "MO= df[df[\"Commodity\"]==\"Mustard Oil\"]\n",
    "print(MO.Variety.unique())\n",
    "CO= df[df[\"Commodity\"]==\"Coconut Oil\"]\n",
    "print(CO.Variety.unique())\n",
    "GO= df[df[\"Commodity\"]==\"Gingelly Oil\"]\n",
    "print(GO.Variety.unique())\n",
    "GR= df[df[\"Commodity\"]==\"Groundnut Oil\"]\n",
    "print(GR.Variety.unique())"
   ]
  },
  {
   "cell_type": "code",
   "execution_count": 68,
   "metadata": {},
   "outputs": [
    {
     "data": {
      "text/plain": [
       "array(['Split', 'FAQ', 'Powdered Agmark', 'Common/Coarse', 'Fine',\n",
       "       'Superfine', 'Loose(common)', 'Packet(iodized)',\n",
       "       'Brooke Bond Red Label', 'Ctc(loose)', 'Glucose',\n",
       "       'Delicious medium size', 'Local', 'White', 'Mutton', 'Cow/Buffalo',\n",
       "       'Dairy', 'Common', 'Cat Fish', 'Pomphret', 'Rohu 1Kg Size', 'Desi',\n",
       "       'Whole', 'Amul/Any Other', 'Poultry', 'Dry', 'Fresh', 'Instant',\n",
       "       'Powdered', 'Kalyan HYV'], dtype=object)"
      ]
     },
     "execution_count": 68,
     "metadata": {},
     "output_type": "execute_result"
    }
   ],
   "source": [
    "#16. Which state consume more local products commodity wise?[in variety field]\n",
    "df[\"Variety\"].unique()"
   ]
  },
  {
   "cell_type": "code",
   "execution_count": 99,
   "metadata": {},
   "outputs": [
    {
     "data": {
      "text/plain": [
       "array(['Gur', 'Ghee', 'Bread', 'Wheat'], dtype=object)"
      ]
     },
     "execution_count": 99,
     "metadata": {},
     "output_type": "execute_result"
    }
   ],
   "source": [
    "df1=df[(df[\"Variety\"]==\"Desi\")  | (df[\"Variety\"]==\"Local\")]\n",
    "local=df1[\"Commodity\"].unique()\n",
    "local"
   ]
  },
  {
   "cell_type": "code",
   "execution_count": 111,
   "metadata": {},
   "outputs": [
    {
     "data": {
      "image/png": "[encoded data removed]",
      "text/plain": [
       "<Figure size 432x288 with 1 Axes>"
      ]
     },
     "metadata": {
      "needs_background": "light"
     },
     "output_type": "display_data"
    },
    {
     "data": {
      "image/png": "[encoded data removed]",
      "text/plain": [
       "<Figure size 432x288 with 1 Axes>"
      ]
     },
     "metadata": {
      "needs_background": "light"
     },
     "output_type": "display_data"
    },
    {
     "data": {
      "image/png": "[encoded data removed]",
      "text/plain": [
       "<Figure size 432x288 with 1 Axes>"
      ]
     },
     "metadata": {
      "needs_background": "light"
     },
     "output_type": "display_data"
    },
    {
     "data": {
      "image/png": "[encoded data removed]",
      "text/plain": [
       "<Figure size 432x288 with 1 Axes>"
      ]
     },
     "metadata": {
      "needs_background": "light"
     },
     "output_type": "display_data"
    }
   ],
   "source": [
    "for i in local:\n",
    "    dGur=df1[df1[\"Commodity\"]==i].groupby(\"State\")[\"Commodity\"].count()\n",
    "    dg = pd.DataFrame(dGur)\n",
    "    dg.sort_values(\"Commodity\").plot(kind=\"barh\")\n",
    "    plt.title(i)\n",
    "    plt.show()"
   ]
  }
 ],
 "metadata": {
  "kernelspec": {
   "display_name": "Python 3",
   "language": "python",
   "name": "python3"
  },
  "language_info": {
   "codemirror_mode": {
    "name": "ipython",
    "version": 3
   },
   "file_extension": ".py",
   "mimetype": "text/x-python",
   "name": "python",
   "nbconvert_exporter": "python",
   "pygments_lexer": "ipython3",
   "version": "3.8.5"
  }
 },
 "nbformat": 4,
 "nbformat_minor": 4
}
